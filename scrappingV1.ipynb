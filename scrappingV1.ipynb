{
 "cells": [
  {
   "cell_type": "code",
   "execution_count": 30,
   "metadata": {},
   "outputs": [
    {
     "name": "stdout",
     "output_type": "stream",
     "text": [
      "Data has been scraped and stored in scraped_data.json.\n"
     ]
    }
   ],
   "source": [
    "import json\n",
    "from bs4 import BeautifulSoup\n",
    "import re\n",
    "import requests\n",
    "\n",
    "# URL of the lecture notes\n",
    "url = 'https://stanford-cs324.github.io/winter2022/lectures/introduction/'\n",
    "\n",
    "# Fetch the content from the URL\n",
    "response = requests.get(url)\n",
    "\n",
    "# Parse the content with BeautifulSoup\n",
    "soup = BeautifulSoup(response.content, 'html.parser')\n",
    "\n",
    "main_content_div = soup.find('div', class_='main-content', id='main-content')\n",
    "\n",
    "html_content = \"\"\n",
    "\n",
    "if main_content_div:\n",
    "    # Step 3: Extract the inner HTML of the <div>\n",
    "    html_content = main_content_div.decode_contents()\n",
    "\n",
    "# Initialize a dictionary to store scraped data\n",
    "scraped_data = {\n",
    "    'h2_sections': [],\n",
    "    'paragraphs': [],\n",
    "    'tables': [],\n",
    "    'links': [],\n",
    "    'equations': []\n",
    "}\n",
    "\n",
    "# Extracting <h2> sections\n",
    "h2_sections = soup.find_all('h2')\n",
    "for h2 in h2_sections:\n",
    "    scraped_data['h2_sections'].append(h2.text.strip())\n",
    "\n",
    "# Extracting <p> sections\n",
    "paragraphs = soup.find_all('p')\n",
    "for p in paragraphs:\n",
    "    scraped_data['paragraphs'].append(p.text.strip())\n",
    "\n",
    "# Extracting <table> sections (if any)\n",
    "tables = soup.find_all('table')\n",
    "for table in tables:\n",
    "    # Convert table to a string representation for storage (if needed)\n",
    "    scraped_data['tables'].append(str(table))\n",
    "\n",
    "# Extracting <a> tags\n",
    "links = soup.find_all('a')\n",
    "for link in links:\n",
    "    scraped_data['links'].append({\n",
    "        'href': link.get('href'),\n",
    "        'text': link.text.strip()\n",
    "    })\n",
    "\n",
    "# Extracting LaTeX equations\n",
    "latex_pattern = r'\\$(.*?)\\$|\\\\\\[([\\s\\S]*?)\\\\\\]'\n",
    "equations = re.findall(latex_pattern, html_content)\n",
    "for equation in equations:\n",
    "    equation_text = next(filter(None, equation))\n",
    "    scraped_data['equations'].append(equation_text.strip())\n",
    "\n",
    "# Serialize scraped data to JSON\n",
    "json_data = json.dumps(scraped_data, indent=4)\n",
    "\n",
    "# Write JSON data to a file\n",
    "with open('scraped_datav1.json', 'w') as json_file:\n",
    "    json_file.write(json_data)\n",
    "\n",
    "print(\"Data has been scraped and stored in scraped_data.json.\")\n"
   ]
  }
 ],
 "metadata": {
  "language_info": {
   "name": "python"
  }
 },
 "nbformat": 4,
 "nbformat_minor": 2
}
